{
 "cells": [
  {
   "cell_type": "code",
   "execution_count": 3,
   "id": "286d7091",
   "metadata": {},
   "outputs": [],
   "source": [
    "def del_years(x):\n",
    "    ''' This function returns a nan if the given argument (must be a string)\n",
    "    has 4 or less characters. Otherwise  it returns the intact original string.\n",
    "    The original purpose of this function was to delete cells with year info but \n",
    "    no month info.\n",
    "    '''\n",
    "    import numpy as np\n",
    "    if len(x.strip()) < 5:\n",
    "        return np.nan\n",
    "    else:\n",
    "        return x\n"
   ]
  },
  {
   "cell_type": "code",
   "execution_count": 7,
   "id": "e575b578",
   "metadata": {},
   "outputs": [],
   "source": [
    "def del_p(x):\n",
    "    ''' This function which takes a string as argument, returns the same string\n",
    "    that was entered but without (p) in case there are any of these in the original\n",
    "    string\n",
    "    '''\n",
    "    return x.replace('(p)', '')"
   ]
  },
  {
   "cell_type": "code",
   "execution_count": 8,
   "id": "73229243",
   "metadata": {},
   "outputs": [
    {
     "data": {
      "text/plain": [
       "'2005'"
      ]
     },
     "execution_count": 8,
     "metadata": {},
     "output_type": "execute_result"
    }
   ],
   "source": [
    "#hacer strip a las fechas, tienen espacios por delante y por detrás..."
   ]
  }
 ],
 "metadata": {
  "kernelspec": {
   "display_name": "Python 3 (ipykernel)",
   "language": "python",
   "name": "python3"
  },
  "language_info": {
   "codemirror_mode": {
    "name": "ipython",
    "version": 3
   },
   "file_extension": ".py",
   "mimetype": "text/x-python",
   "name": "python",
   "nbconvert_exporter": "python",
   "pygments_lexer": "ipython3",
   "version": "3.9.7"
  }
 },
 "nbformat": 4,
 "nbformat_minor": 5
}
