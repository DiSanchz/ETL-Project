{
 "cells": [
  {
   "cell_type": "markdown",
   "id": "da67ef1e",
   "metadata": {},
   "source": [
    "# A. Trade flows (Canary)"
   ]
  },
  {
   "cell_type": "markdown",
   "id": "b72fb82c",
   "metadata": {},
   "source": [
    "# B. Trade flows (Balearic)"
   ]
  },
  {
   "cell_type": "markdown",
   "id": "fd6f29b3",
   "metadata": {},
   "source": [
    "# C. Foreign citizens in the Canaries and the Balearic islands"
   ]
  }
 ],
 "metadata": {
  "kernelspec": {
   "display_name": "Python 3 (ipykernel)",
   "language": "python",
   "name": "python3"
  },
  "language_info": {
   "codemirror_mode": {
    "name": "ipython",
    "version": 3
   },
   "file_extension": ".py",
   "mimetype": "text/x-python",
   "name": "python",
   "nbconvert_exporter": "python",
   "pygments_lexer": "ipython3",
   "version": "3.9.7"
  }
 },
 "nbformat": 4,
 "nbformat_minor": 5
}
